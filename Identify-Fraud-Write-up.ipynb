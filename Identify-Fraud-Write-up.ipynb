{
 "cells": [
  {
   "cell_type": "markdown",
   "metadata": {},
   "source": [
    "# Identify Fraud from Enron Data - Further Exploration and Analysis\n",
    "\n",
    "**By: Christian Guzman**"
   ]
  },
  {
   "cell_type": "markdown",
   "metadata": {},
   "source": [
    "## Introduction"
   ]
  },
  {
   "cell_type": "markdown",
   "metadata": {},
   "source": [
    "This report is on the Enron data that was processed as part of the Udacity final project. The goal of this  is to use different techniques in the data exploration and analysis phases to draw new insights from the data, as well as to further develop machine learning techniques. I will attempt to invoke many of the techniques I learned throughout the course."
   ]
  },
  {
   "cell_type": "code",
   "execution_count": 3,
   "metadata": {},
   "outputs": [],
   "source": [
    "import sys\n",
    "import pickle\n",
    "import pandas as pd\n",
    "import numpy as np\n",
    "import matplotlib.pyplot as plt\n",
    "sys.path.append(\"../tools/\")\n",
    "\n",
    "from feature_format import featureFormat, targetFeatureSplit\n",
    "from tester import dump_classifier_and_data\n",
    "\n"
   ]
  },
  {
   "cell_type": "markdown",
   "metadata": {},
   "source": [
    "## Data Wrangling"
   ]
  },
  {
   "cell_type": "code",
   "execution_count": 4,
   "metadata": {
    "collapsed": true
   },
   "outputs": [],
   "source": [
    "financial_features = ['salary', 'deferral_payments', 'total_payments', \n",
    "                      'loan_advances', 'bonus', 'restricted_stock_deferred', \n",
    "                      'deferred_income', 'total_stock_value', 'expenses', \n",
    "                      'exercised_stock_options', 'other', \n",
    "                      'long_term_incentive', 'restricted_stock', \n",
    "                      'director_fees'] # all units are in US dollars.\n",
    "\n",
    "email_features = ['to_messages', 'from_poi_to_this_person', \n",
    "                  'from_messages', 'from_this_person_to_poi', \n",
    "                  'shared_receipt_with_poi'] # units are generally number of \n",
    "                                             # emails messages; notable \n",
    "                                             # exception is ‘email_address’, \n",
    "                                             # which is a text string.\n",
    "\n",
    "poi_label = ['poi'] # boolean 1 for person of interest, 0 for not.\n",
    "\n",
    "features_list = financial_features + email_features\n",
    "### Load the dictionary containing the dataset\n",
    "with open(\"final_project_dataset.pkl\", \"r\") as data_file:\n",
    "    data_dict = pickle.load(data_file)"
   ]
  },
  {
   "cell_type": "code",
   "execution_count": 5,
   "metadata": {},
   "outputs": [
    {
     "data": {
      "text/plain": [
       "19"
      ]
     },
     "execution_count": 5,
     "metadata": {},
     "output_type": "execute_result"
    }
   ],
   "source": [
    "len(features_list)"
   ]
  },
  {
   "cell_type": "markdown",
   "metadata": {},
   "source": [
    "There 19 features in the variable"
   ]
  },
  {
   "cell_type": "code",
   "execution_count": 6,
   "metadata": {
    "scrolled": true
   },
   "outputs": [
    {
     "data": {
      "text/plain": [
       "{'bonus': 4175000,\n",
       " 'deferral_payments': 2869717,\n",
       " 'deferred_income': -3081055,\n",
       " 'director_fees': 'NaN',\n",
       " 'email_address': 'phillip.allen@enron.com',\n",
       " 'exercised_stock_options': 1729541,\n",
       " 'expenses': 13868,\n",
       " 'from_messages': 2195,\n",
       " 'from_poi_to_this_person': 47,\n",
       " 'from_this_person_to_poi': 65,\n",
       " 'loan_advances': 'NaN',\n",
       " 'long_term_incentive': 304805,\n",
       " 'other': 152,\n",
       " 'poi': False,\n",
       " 'restricted_stock': 126027,\n",
       " 'restricted_stock_deferred': -126027,\n",
       " 'salary': 201955,\n",
       " 'shared_receipt_with_poi': 1407,\n",
       " 'to_messages': 2902,\n",
       " 'total_payments': 4484442,\n",
       " 'total_stock_value': 1729541}"
      ]
     },
     "execution_count": 6,
     "metadata": {},
     "output_type": "execute_result"
    }
   ],
   "source": [
    "data_dict['ALLEN PHILLIP K']"
   ]
  },
  {
   "cell_type": "markdown",
   "metadata": {},
   "source": [
    "The above is an example data point of employee Phillip K Allen."
   ]
  },
  {
   "cell_type": "code",
   "execution_count": 7,
   "metadata": {
    "collapsed": true
   },
   "outputs": [],
   "source": [
    "df = pd.DataFrame.from_dict(data_dict, orient='index')\n",
    "df.replace(to_replace='NaN', value=np.nan, inplace=True)"
   ]
  },
  {
   "cell_type": "code",
   "execution_count": 8,
   "metadata": {},
   "outputs": [
    {
     "data": {
      "text/html": [
       "<div>\n",
       "<style>\n",
       "    .dataframe thead tr:only-child th {\n",
       "        text-align: right;\n",
       "    }\n",
       "\n",
       "    .dataframe thead th {\n",
       "        text-align: left;\n",
       "    }\n",
       "\n",
       "    .dataframe tbody tr th {\n",
       "        vertical-align: top;\n",
       "    }\n",
       "</style>\n",
       "<table border=\"1\" class=\"dataframe\">\n",
       "  <thead>\n",
       "    <tr style=\"text-align: right;\">\n",
       "      <th></th>\n",
       "      <th>salary</th>\n",
       "      <th>deferral_payments</th>\n",
       "      <th>total_payments</th>\n",
       "      <th>loan_advances</th>\n",
       "      <th>bonus</th>\n",
       "      <th>restricted_stock_deferred</th>\n",
       "      <th>deferred_income</th>\n",
       "      <th>total_stock_value</th>\n",
       "      <th>expenses</th>\n",
       "      <th>exercised_stock_options</th>\n",
       "      <th>other</th>\n",
       "      <th>long_term_incentive</th>\n",
       "      <th>restricted_stock</th>\n",
       "      <th>director_fees</th>\n",
       "      <th>to_messages</th>\n",
       "      <th>from_poi_to_this_person</th>\n",
       "      <th>from_messages</th>\n",
       "      <th>from_this_person_to_poi</th>\n",
       "      <th>shared_receipt_with_poi</th>\n",
       "    </tr>\n",
       "  </thead>\n",
       "  <tbody>\n",
       "    <tr>\n",
       "      <th>ALLEN PHILLIP K</th>\n",
       "      <td>201955.0</td>\n",
       "      <td>2869717.0</td>\n",
       "      <td>4484442.0</td>\n",
       "      <td>NaN</td>\n",
       "      <td>4175000.0</td>\n",
       "      <td>-126027.0</td>\n",
       "      <td>-3081055.0</td>\n",
       "      <td>1729541.0</td>\n",
       "      <td>13868.0</td>\n",
       "      <td>1729541.0</td>\n",
       "      <td>152.0</td>\n",
       "      <td>304805.0</td>\n",
       "      <td>126027.0</td>\n",
       "      <td>NaN</td>\n",
       "      <td>2902.0</td>\n",
       "      <td>47.0</td>\n",
       "      <td>2195.0</td>\n",
       "      <td>65.0</td>\n",
       "      <td>1407.0</td>\n",
       "    </tr>\n",
       "    <tr>\n",
       "      <th>BADUM JAMES P</th>\n",
       "      <td>NaN</td>\n",
       "      <td>178980.0</td>\n",
       "      <td>182466.0</td>\n",
       "      <td>NaN</td>\n",
       "      <td>NaN</td>\n",
       "      <td>NaN</td>\n",
       "      <td>NaN</td>\n",
       "      <td>257817.0</td>\n",
       "      <td>3486.0</td>\n",
       "      <td>257817.0</td>\n",
       "      <td>NaN</td>\n",
       "      <td>NaN</td>\n",
       "      <td>NaN</td>\n",
       "      <td>NaN</td>\n",
       "      <td>NaN</td>\n",
       "      <td>NaN</td>\n",
       "      <td>NaN</td>\n",
       "      <td>NaN</td>\n",
       "      <td>NaN</td>\n",
       "    </tr>\n",
       "    <tr>\n",
       "      <th>BANNANTINE JAMES M</th>\n",
       "      <td>477.0</td>\n",
       "      <td>NaN</td>\n",
       "      <td>916197.0</td>\n",
       "      <td>NaN</td>\n",
       "      <td>NaN</td>\n",
       "      <td>-560222.0</td>\n",
       "      <td>-5104.0</td>\n",
       "      <td>5243487.0</td>\n",
       "      <td>56301.0</td>\n",
       "      <td>4046157.0</td>\n",
       "      <td>864523.0</td>\n",
       "      <td>NaN</td>\n",
       "      <td>1757552.0</td>\n",
       "      <td>NaN</td>\n",
       "      <td>566.0</td>\n",
       "      <td>39.0</td>\n",
       "      <td>29.0</td>\n",
       "      <td>0.0</td>\n",
       "      <td>465.0</td>\n",
       "    </tr>\n",
       "    <tr>\n",
       "      <th>BAXTER JOHN C</th>\n",
       "      <td>267102.0</td>\n",
       "      <td>1295738.0</td>\n",
       "      <td>5634343.0</td>\n",
       "      <td>NaN</td>\n",
       "      <td>1200000.0</td>\n",
       "      <td>NaN</td>\n",
       "      <td>-1386055.0</td>\n",
       "      <td>10623258.0</td>\n",
       "      <td>11200.0</td>\n",
       "      <td>6680544.0</td>\n",
       "      <td>2660303.0</td>\n",
       "      <td>1586055.0</td>\n",
       "      <td>3942714.0</td>\n",
       "      <td>NaN</td>\n",
       "      <td>NaN</td>\n",
       "      <td>NaN</td>\n",
       "      <td>NaN</td>\n",
       "      <td>NaN</td>\n",
       "      <td>NaN</td>\n",
       "    </tr>\n",
       "    <tr>\n",
       "      <th>BAY FRANKLIN R</th>\n",
       "      <td>239671.0</td>\n",
       "      <td>260455.0</td>\n",
       "      <td>827696.0</td>\n",
       "      <td>NaN</td>\n",
       "      <td>400000.0</td>\n",
       "      <td>-82782.0</td>\n",
       "      <td>-201641.0</td>\n",
       "      <td>63014.0</td>\n",
       "      <td>129142.0</td>\n",
       "      <td>NaN</td>\n",
       "      <td>69.0</td>\n",
       "      <td>NaN</td>\n",
       "      <td>145796.0</td>\n",
       "      <td>NaN</td>\n",
       "      <td>NaN</td>\n",
       "      <td>NaN</td>\n",
       "      <td>NaN</td>\n",
       "      <td>NaN</td>\n",
       "      <td>NaN</td>\n",
       "    </tr>\n",
       "  </tbody>\n",
       "</table>\n",
       "</div>"
      ],
      "text/plain": [
       "                      salary  deferral_payments  total_payments  \\\n",
       "ALLEN PHILLIP K     201955.0          2869717.0       4484442.0   \n",
       "BADUM JAMES P            NaN           178980.0        182466.0   \n",
       "BANNANTINE JAMES M     477.0                NaN        916197.0   \n",
       "BAXTER JOHN C       267102.0          1295738.0       5634343.0   \n",
       "BAY FRANKLIN R      239671.0           260455.0        827696.0   \n",
       "\n",
       "                    loan_advances      bonus  restricted_stock_deferred  \\\n",
       "ALLEN PHILLIP K               NaN  4175000.0                  -126027.0   \n",
       "BADUM JAMES P                 NaN        NaN                        NaN   \n",
       "BANNANTINE JAMES M            NaN        NaN                  -560222.0   \n",
       "BAXTER JOHN C                 NaN  1200000.0                        NaN   \n",
       "BAY FRANKLIN R                NaN   400000.0                   -82782.0   \n",
       "\n",
       "                    deferred_income  total_stock_value  expenses  \\\n",
       "ALLEN PHILLIP K          -3081055.0          1729541.0   13868.0   \n",
       "BADUM JAMES P                   NaN           257817.0    3486.0   \n",
       "BANNANTINE JAMES M          -5104.0          5243487.0   56301.0   \n",
       "BAXTER JOHN C            -1386055.0         10623258.0   11200.0   \n",
       "BAY FRANKLIN R            -201641.0            63014.0  129142.0   \n",
       "\n",
       "                    exercised_stock_options      other  long_term_incentive  \\\n",
       "ALLEN PHILLIP K                   1729541.0      152.0             304805.0   \n",
       "BADUM JAMES P                      257817.0        NaN                  NaN   \n",
       "BANNANTINE JAMES M                4046157.0   864523.0                  NaN   \n",
       "BAXTER JOHN C                     6680544.0  2660303.0            1586055.0   \n",
       "BAY FRANKLIN R                          NaN       69.0                  NaN   \n",
       "\n",
       "                    restricted_stock  director_fees  to_messages  \\\n",
       "ALLEN PHILLIP K             126027.0            NaN       2902.0   \n",
       "BADUM JAMES P                    NaN            NaN          NaN   \n",
       "BANNANTINE JAMES M         1757552.0            NaN        566.0   \n",
       "BAXTER JOHN C              3942714.0            NaN          NaN   \n",
       "BAY FRANKLIN R              145796.0            NaN          NaN   \n",
       "\n",
       "                    from_poi_to_this_person  from_messages  \\\n",
       "ALLEN PHILLIP K                        47.0         2195.0   \n",
       "BADUM JAMES P                           NaN            NaN   \n",
       "BANNANTINE JAMES M                     39.0           29.0   \n",
       "BAXTER JOHN C                           NaN            NaN   \n",
       "BAY FRANKLIN R                          NaN            NaN   \n",
       "\n",
       "                    from_this_person_to_poi  shared_receipt_with_poi  \n",
       "ALLEN PHILLIP K                        65.0                   1407.0  \n",
       "BADUM JAMES P                           NaN                      NaN  \n",
       "BANNANTINE JAMES M                      0.0                    465.0  \n",
       "BAXTER JOHN C                           NaN                      NaN  \n",
       "BAY FRANKLIN R                          NaN                      NaN  "
      ]
     },
     "execution_count": 8,
     "metadata": {},
     "output_type": "execute_result"
    }
   ],
   "source": [
    "df = df[features_list]\n",
    "df.head()"
   ]
  },
  {
   "cell_type": "code",
   "execution_count": 9,
   "metadata": {},
   "outputs": [
    {
     "name": "stdout",
     "output_type": "stream",
     "text": [
      "Number of null values\n",
      "SALARY: 51 ; 34.93 %\n",
      "DEFERRAL_PAYMENTS: 107 ; 73.29 %\n",
      "TOTAL_PAYMENTS: 21 ; 14.38 %\n",
      "LOAN_ADVANCES: 142 ; 97.26 %\n",
      "BONUS: 64 ; 43.84 %\n",
      "RESTRICTED_STOCK_DEFERRED: 128 ; 87.67 %\n",
      "DEFERRED_INCOME: 97 ; 66.44 %\n",
      "TOTAL_STOCK_VALUE: 20 ; 13.7 %\n",
      "EXPENSES: 51 ; 34.93 %\n",
      "EXERCISED_STOCK_OPTIONS: 44 ; 30.14 %\n",
      "OTHER: 53 ; 36.3 %\n",
      "LONG_TERM_INCENTIVE: 80 ; 54.79 %\n",
      "RESTRICTED_STOCK: 36 ; 24.66 %\n",
      "DIRECTOR_FEES: 129 ; 88.36 %\n",
      "TO_MESSAGES: 60 ; 41.1 %\n",
      "FROM_POI_TO_THIS_PERSON: 60 ; 41.1 %\n",
      "FROM_MESSAGES: 60 ; 41.1 %\n",
      "FROM_THIS_PERSON_TO_POI: 60 ; 41.1 %\n",
      "SHARED_RECEIPT_WITH_POI: 60 ; 41.1 %\n"
     ]
    }
   ],
   "source": [
    "### Count number of null, and negative values for each column\n",
    "# Number of nan\n",
    "# ex: np.isnan(df['salary']).values.sum()\n",
    "print \"Number of null values\"\n",
    "for col in df.columns:\n",
    "    val = np.isnan(df[col]).values.sum()\n",
    "    print col.upper() +\":\", val, \";\", \\\n",
    "    round(float(val) / float(len(df)) * 100, 2), \"%\""
   ]
  },
  {
   "cell_type": "code",
   "execution_count": 10,
   "metadata": {
    "scrolled": true
   },
   "outputs": [
    {
     "name": "stdout",
     "output_type": "stream",
     "text": [
      "Number of negative values\n",
      "SALARY: 0 ; 0.0 %\n",
      "DEFERRAL_PAYMENTS: 1 ; 0.68 %\n",
      "TOTAL_PAYMENTS: 0 ; 0.0 %\n",
      "LOAN_ADVANCES: 0 ; 0.0 %\n",
      "BONUS: 0 ; 0.0 %\n",
      "RESTRICTED_STOCK_DEFERRED: 16 ; 10.96 % *\n",
      "DEFERRED_INCOME: 49 ; 33.56 % *\n",
      "TOTAL_STOCK_VALUE: 1 ; 0.68 %\n",
      "EXPENSES: 0 ; 0.0 %\n",
      "EXERCISED_STOCK_OPTIONS: 0 ; 0.0 %\n",
      "OTHER: 0 ; 0.0 %\n",
      "LONG_TERM_INCENTIVE: 0 ; 0.0 %\n",
      "RESTRICTED_STOCK: 1 ; 0.68 %\n",
      "DIRECTOR_FEES: 0 ; 0.0 %\n",
      "TO_MESSAGES: 0 ; 0.0 %\n",
      "FROM_POI_TO_THIS_PERSON: 0 ; 0.0 %\n",
      "FROM_MESSAGES: 0 ; 0.0 %\n",
      "FROM_THIS_PERSON_TO_POI: 0 ; 0.0 %\n",
      "SHARED_RECEIPT_WITH_POI: 0 ; 0.0 %\n",
      "\n",
      "\"*\" More than 1% of values are negative.\n"
     ]
    }
   ],
   "source": [
    "# Number of negative\n",
    "print \"Number of negative values\"\n",
    "for col in df.columns:\n",
    "    ctr = 0\n",
    "    for elem in df[col]:\n",
    "        if elem < 0:\n",
    "            ctr += 1\n",
    "    p = round(float(ctr) / float(len(df)) * 100, 2)\n",
    "    if p > 1.00:\n",
    "        print col.upper() + \":\", ctr, \";\", p, \"%\", \"*\"\n",
    "    else:\n",
    "        print col.upper() + \":\", ctr, \";\", p, \"%\"\n",
    "print \"\\n\\\"*\\\"\" + \" More than 1% of values are negative.\""
   ]
  },
  {
   "cell_type": "markdown",
   "metadata": {},
   "source": [
    "Restricted Stock Deferred, and Deferred Income were the only features with more than 1% negative values. They each had approximately 11% and 34% respectively."
   ]
  },
  {
   "cell_type": "markdown",
   "metadata": {},
   "source": [
    "For data imputation a feature like salary should more than likely never be zero since an employee would not work for 0 income. In this case I replace the missing values with the median. The missing values of other features could be replaced with zero. For example an employee could have zero director's fees since it is realistic for most employees to not be directors."
   ]
  },
  {
   "cell_type": "code",
   "execution_count": 11,
   "metadata": {
    "collapsed": true
   },
   "outputs": [],
   "source": [
    "if False:\n",
    "    # Remove negative numbers\n",
    "    for col in df.columns:\n",
    "        if type(df[col][0]) == np.float64:\n",
    "            df[col] = df[col].abs()"
   ]
  },
  {
   "cell_type": "code",
   "execution_count": 12,
   "metadata": {
    "scrolled": true
   },
   "outputs": [
    {
     "data": {
      "text/plain": [
       "count    9.500000e+01\n",
       "mean     5.621943e+05\n",
       "std      2.716369e+06\n",
       "min      4.770000e+02\n",
       "25%      2.118160e+05\n",
       "50%      2.599960e+05\n",
       "75%      3.121170e+05\n",
       "max      2.670423e+07\n",
       "Name: salary, dtype: float64"
      ]
     },
     "execution_count": 12,
     "metadata": {},
     "output_type": "execute_result"
    }
   ],
   "source": [
    "df['salary'].describe()"
   ]
  },
  {
   "cell_type": "code",
   "execution_count": 13,
   "metadata": {},
   "outputs": [
    {
     "data": {
      "text/plain": [
       "51"
      ]
     },
     "execution_count": 13,
     "metadata": {},
     "output_type": "execute_result"
    }
   ],
   "source": [
    "df['salary'].isnull().sum()"
   ]
  },
  {
   "cell_type": "code",
   "execution_count": 14,
   "metadata": {
    "collapsed": true
   },
   "outputs": [],
   "source": [
    "# Remove NaN values.\n",
    "def impute(column, strat='median'):\n",
    "    strats = {}\n",
    "    strats['mean'] = column.mean()\n",
    "    strats['median'] = column.median()\n",
    "    strats['mode'] = column.mode()\n",
    "    for i in range(len(column)):\n",
    "        if np.isnan(column[i]):\n",
    "            column[i] = strats[strat]\n",
    "    return column"
   ]
  },
  {
   "cell_type": "code",
   "execution_count": 17,
   "metadata": {},
   "outputs": [],
   "source": [
    "for elem in df.columns:\n",
    "    df[elem] = impute(df[elem])"
   ]
  },
  {
   "cell_type": "markdown",
   "metadata": {},
   "source": [
    "## Exploratory Analysis"
   ]
  },
  {
   "cell_type": "code",
   "execution_count": 2,
   "metadata": {
    "collapsed": true
   },
   "outputs": [],
   "source": [
    "import matplotlib.pyplot as plt\n",
    "%matplotlib inline"
   ]
  },
  {
   "cell_type": "code",
   "execution_count": 33,
   "metadata": {},
   "outputs": [
    {
     "data": {
      "text/plain": [
       "count    1.460000e+02\n",
       "mean     4.566319e+05\n",
       "std      2.191873e+06\n",
       "min      4.770000e+02\n",
       "25%      2.398005e+05\n",
       "50%      2.599960e+05\n",
       "75%      2.708505e+05\n",
       "max      2.670423e+07\n",
       "Name: salary, dtype: float64"
      ]
     },
     "execution_count": 33,
     "metadata": {},
     "output_type": "execute_result"
    }
   ],
   "source": [
    "df['salary'].describe()"
   ]
  },
  {
   "cell_type": "code",
   "execution_count": 34,
   "metadata": {},
   "outputs": [
    {
     "data": {
      "text/plain": [
       "477.0"
      ]
     },
     "execution_count": 34,
     "metadata": {},
     "output_type": "execute_result"
    }
   ],
   "source": [
    "df['salary'].min()"
   ]
  },
  {
   "cell_type": "code",
   "execution_count": 35,
   "metadata": {},
   "outputs": [
    {
     "data": {
      "text/plain": [
       "26704229.0"
      ]
     },
     "execution_count": 35,
     "metadata": {},
     "output_type": "execute_result"
    }
   ],
   "source": [
    "df['salary'].max()"
   ]
  },
  {
   "cell_type": "code",
   "execution_count": 36,
   "metadata": {},
   "outputs": [
    {
     "data": {
      "text/plain": [
       "<matplotlib.axes._subplots.AxesSubplot at 0xc598d68>"
      ]
     },
     "execution_count": 36,
     "metadata": {},
     "output_type": "execute_result"
    },
    {
     "data": {
      "image/png": "[encoded data removed]",
      "text/plain": [
       "<matplotlib.figure.Figure at 0xc598160>"
      ]
     },
     "metadata": {},
     "output_type": "display_data"
    }
   ],
   "source": [
    "df['salary'].hist()"
   ]
  },
  {
   "cell_type": "markdown",
   "metadata": {},
   "source": [
    "Looking at the distribution for the response variable 'salary' there is an obvious outlier. A salary of 26 million seems to excessive, and further research can reveal the cause of this outlier."
   ]
  },
  {
   "cell_type": "code",
   "execution_count": 39,
   "metadata": {},
   "outputs": [
    {
     "data": {
      "text/html": [
       "<img src=\"images/salary-outlier.JPG\">"
      ],
      "text/plain": [
       "<IPython.core.display.HTML object>"
      ]
     },
     "metadata": {},
     "output_type": "display_data"
    }
   ],
   "source": [
    "%%html\n",
    "<img src=\"images/salary-outlier.JPG\">"
   ]
  },
  {
   "cell_type": "markdown",
   "metadata": {},
   "source": [
    "The outlier was caused by the data collection as the value is actually the total sum of all salaries. There is also data point named \"The Travel Agency in the Park\" which is not an employee and will also be removed from the data."
   ]
  },
  {
   "cell_type": "code",
   "execution_count": 58,
   "metadata": {},
   "outputs": [
    {
     "name": "stdout",
     "output_type": "stream",
     "text": [
      "130 ; 127\n"
     ]
    }
   ],
   "source": [
    "print df.index.get_loc('TOTAL'),\";\", df.index.get_loc('THE TRAVEL AGENCY IN THE PARK')\n"
   ]
  },
  {
   "cell_type": "code",
   "execution_count": 67,
   "metadata": {},
   "outputs": [],
   "source": [
    "# Ref: http://erikrood.com/Python_References/dropping_rows_cols_pandas.html\n",
    "if 'TOTAL' in df.index:\n",
    "    df.drop('TOTAL', axis=0, inplace=True)\n",
    "if 'THE TRAVEL AGENCY IN THE PARK' in df.index:\n",
    "    df.drop('THE TRAVEL AGENCY IN THE PARK', axis=0, inplace=True)"
   ]
  },
  {
   "cell_type": "code",
   "execution_count": 70,
   "metadata": {},
   "outputs": [
    {
     "data": {
      "text/plain": [
       "<matplotlib.axes._subplots.AxesSubplot at 0xecc9ba8>"
      ]
     },
     "execution_count": 70,
     "metadata": {},
     "output_type": "execute_result"
    },
    {
     "data": {
      "image/png": "[encoded data removed]",
      "text/plain": [
       "<matplotlib.figure.Figure at 0xf1f2128>"
      ]
     },
     "metadata": {},
     "output_type": "display_data"
    }
   ],
   "source": [
    "df['salary'].hist()"
   ]
  },
  {
   "cell_type": "code",
   "execution_count": null,
   "metadata": {
    "collapsed": true
   },
   "outputs": [],
   "source": []
  }
 ],
 "metadata": {
  "kernelspec": {
   "display_name": "Python 2",
   "language": "python",
   "name": "python2"
  },
  "language_info": {
   "codemirror_mode": {
    "name": "ipython",
    "version": 2
   },
   "file_extension": ".py",
   "mimetype": "text/x-python",
   "name": "python",
   "nbconvert_exporter": "python",
   "pygments_lexer": "ipython2",
   "version": "2.7.13"
  }
 },
 "nbformat": 4,
 "nbformat_minor": 2
}
